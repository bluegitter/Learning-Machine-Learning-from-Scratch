{
 "cells": [
  {
   "cell_type": "code",
   "execution_count": 1,
   "metadata": {
    "ExecuteTime": {
     "end_time": "2021-04-09T01:53:48.734470Z",
     "start_time": "2021-04-09T01:53:48.473305Z"
    }
   },
   "outputs": [
    {
     "ename": "ModuleNotFoundError",
     "evalue": "No module named 'rsa'",
     "output_type": "error",
     "traceback": [
      "\u001b[1;31m---------------------------------------------------------------------------\u001b[0m",
      "\u001b[1;31mModuleNotFoundError\u001b[0m                       Traceback (most recent call last)",
      "\u001b[1;32m<ipython-input-1-4a05220692b2>\u001b[0m in \u001b[0;36m<module>\u001b[1;34m\u001b[0m\n\u001b[1;32m----> 1\u001b[1;33m \u001b[1;32mimport\u001b[0m \u001b[0mrsa\u001b[0m\u001b[1;33m.\u001b[0m\u001b[0mcore\u001b[0m\u001b[1;33m\u001b[0m\u001b[1;33m\u001b[0m\u001b[0m\n\u001b[0m",
      "\u001b[1;31mModuleNotFoundError\u001b[0m: No module named 'rsa'"
     ]
    }
   ],
   "source": [
    "import rsa.core"
   ]
  },
  {
   "cell_type": "code",
   "execution_count": null,
   "metadata": {},
   "outputs": [],
   "source": [
    "print('第一步,生成公钥私钥')\n",
    "(public_key, private_key) = rsa.newkeys(20)\n",
    "print('公钥:', public_key)\n",
    "print('私钥:', private_key)"
   ]
  },
  {
   "cell_type": "code",
   "execution_count": null,
   "metadata": {},
   "outputs": [],
   "source": [
    "print('\\n第二步,加密原始数据')\n",
    "A = 2\n",
    "B = 11\n",
    "print('原始数据A：', A)\n",
    "print('原始数据B：', B)\n",
    "enc1 = rsa.core.encrypt_int(A, public_key.e, public_key.n)\n",
    "print(\"加密后的A：\", enc1)\n",
    "enc2 = rsa.core.encrypt_int(B, public_key.e, public_key.n)\n",
    "print(\"加密后的B：\", enc1)"
   ]
  },
  {
   "cell_type": "code",
   "execution_count": null,
   "metadata": {},
   "outputs": [],
   "source": [
    "print('\\n第三步,执行给定的乘运算')\n",
    "result = enc1 * enc2\n",
    "print(\"加密后的A*B：\",result)"
   ]
  },
  {
   "cell_type": "code",
   "execution_count": null,
   "metadata": {},
   "outputs": [],
   "source": [
    "print('\\n第四步,解密结果')\n",
    "decrypt_result = rsa.core.decrypt_int(result, private_key.d, public_key.n)\n",
    "print(\"解密后的结果:\", decrypt_result)"
   ]
  }
 ],
 "metadata": {
  "kernelspec": {
   "display_name": "Python 3",
   "language": "python",
   "name": "python3"
  },
  "language_info": {
   "codemirror_mode": {
    "name": "ipython",
    "version": 3
   },
   "file_extension": ".py",
   "mimetype": "text/x-python",
   "name": "python",
   "nbconvert_exporter": "python",
   "pygments_lexer": "ipython3",
   "version": "3.8.5"
  }
 },
 "nbformat": 4,
 "nbformat_minor": 4
}
