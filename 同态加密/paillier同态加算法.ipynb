{
 "cells": [
  {
   "cell_type": "code",
   "execution_count": null,
   "metadata": {},
   "outputs": [],
   "source": [
    "from phe import paillier\n",
    "import numpy as np"
   ]
  },
  {
   "cell_type": "code",
   "execution_count": null,
   "metadata": {},
   "outputs": [],
   "source": [
    "print('第一步,生成公钥私钥')\n",
    "public_key, private_key = paillier.generate_paillier_keypair(n_length=34)\n",
    "print('公钥的g：', public_key.g, '公钥的n：',public_key.n)\n",
    "print('私钥的p：', private_key.p, '私钥的q：', private_key.q)"
   ]
  },
  {
   "cell_type": "code",
   "execution_count": null,
   "metadata": {},
   "outputs": [],
   "source": [
    "print('\\n第二步,加密原始数据')\n",
    "A=[3,32]\n",
    "B=[4,16]\n",
    "print('原始数据A：', A)\n",
    "print('原始数据B：', B)\n",
    "enA=[public_key.encrypt(x) for x in A]\n",
    "enB=[public_key.encrypt(x) for x in B]\n",
    "print(\"加密后的A：\",enA[0].ciphertext(False),enA[1].ciphertext(False))\n",
    "# print(enA[0].ciphertext(True).bit_length())\n",
    "print(\"加密后的B：\",enB[0].ciphertext(False),enB[1].ciphertext(False))\n",
    "# print(enB[0].ciphertext(False).bit_length())"
   ]
  },
  {
   "cell_type": "code",
   "execution_count": null,
   "metadata": {},
   "outputs": [],
   "source": [
    "print('\\n第三步,执行给定的加运算')\n",
    "en=np.add(enA,enB)\n",
    "print(\"加密后的A+B：\",en[0].ciphertext(False),en[1].ciphertext(False))\n",
    "# print(en[0].ciphertext(False).bit_length())"
   ]
  },
  {
   "cell_type": "code",
   "execution_count": null,
   "metadata": {},
   "outputs": [],
   "source": [
    "print('\\n第四步,解密结果')\n",
    "print(\"解密后的结果:\", [private_key.decrypt(x) for x in en])"
   ]
  }
 ],
 "metadata": {
  "kernelspec": {
   "display_name": "Python 3",
   "language": "python",
   "name": "python3"
  },
  "language_info": {
   "codemirror_mode": {
    "name": "ipython",
    "version": 3
   },
   "file_extension": ".py",
   "mimetype": "text/x-python",
   "name": "python",
   "nbconvert_exporter": "python",
   "pygments_lexer": "ipython3",
   "version": "3.8.5"
  }
 },
 "nbformat": 4,
 "nbformat_minor": 4
}
